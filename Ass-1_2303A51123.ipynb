{
  "nbformat": 4,
  "nbformat_minor": 0,
  "metadata": {
    "colab": {
      "provenance": [],
      "authorship_tag": "ABX9TyMSlMGhcvTIGY6pVACDLi/z",
      "include_colab_link": true
    },
    "kernelspec": {
      "name": "python3",
      "display_name": "Python 3"
    },
    "language_info": {
      "name": "python"
    }
  },
  "cells": [
    {
      "cell_type": "markdown",
      "metadata": {
        "id": "view-in-github",
        "colab_type": "text"
      },
      "source": [
        "<a href=\"https://colab.research.google.com/github/2303A51123/Data-mining/blob/main/Ass-1_2303A51123.ipynb\" target=\"_parent\"><img src=\"https://colab.research.google.com/assets/colab-badge.svg\" alt=\"Open In Colab\"/></a>"
      ]
    },
    {
      "cell_type": "code",
      "execution_count": 2,
      "metadata": {
        "id": "TF7IbHqqo2lz"
      },
      "outputs": [],
      "source": [
        "import pandas as pd\n",
        "data=pd.read_csv(\"/content/_titanic.csv\")"
      ]
    },
    {
      "cell_type": "code",
      "source": [
        "    print(\"Dataset Info:\")\n",
        "    print(data.info())"
      ],
      "metadata": {
        "colab": {
          "base_uri": "https://localhost:8080/"
        },
        "id": "ldx1tTYpunNe",
        "outputId": "f31e23a5-755d-4b21-dfdf-86b4f3f9d05f"
      },
      "execution_count": 4,
      "outputs": [
        {
          "output_type": "stream",
          "name": "stdout",
          "text": [
            "Dataset Info:\n",
            "<class 'pandas.core.frame.DataFrame'>\n",
            "RangeIndex: 891 entries, 0 to 890\n",
            "Data columns (total 12 columns):\n",
            " #   Column       Non-Null Count  Dtype  \n",
            "---  ------       --------------  -----  \n",
            " 0   PassengerId  891 non-null    int64  \n",
            " 1   Survived     891 non-null    int64  \n",
            " 2   Pclass       891 non-null    int64  \n",
            " 3   Name         891 non-null    object \n",
            " 4   Sex          891 non-null    object \n",
            " 5   Age          714 non-null    float64\n",
            " 6   SibSp        891 non-null    int64  \n",
            " 7   Parch        891 non-null    int64  \n",
            " 8   Ticket       891 non-null    object \n",
            " 9   Fare         891 non-null    float64\n",
            " 10  Cabin        204 non-null    object \n",
            " 11  Embarked     889 non-null    object \n",
            "dtypes: float64(2), int64(5), object(5)\n",
            "memory usage: 83.7+ KB\n",
            "None\n"
          ]
        }
      ]
    },
    {
      "cell_type": "code",
      "source": [
        "# Count null values\n",
        "print(\"\\nNull Values:\")\n",
        "print(data.isnull().sum())"
      ],
      "metadata": {
        "colab": {
          "base_uri": "https://localhost:8080/"
        },
        "id": "gxyRLl7gw50l",
        "outputId": "b7448201-2c53-41f1-aa73-f457cb42cd2d"
      },
      "execution_count": 9,
      "outputs": [
        {
          "output_type": "stream",
          "name": "stdout",
          "text": [
            "\n",
            "Null Values:\n",
            "PassengerId      0\n",
            "Survived         0\n",
            "Pclass           0\n",
            "Name             0\n",
            "Sex              0\n",
            "Age            177\n",
            "SibSp            0\n",
            "Parch            0\n",
            "Ticket           0\n",
            "Fare             0\n",
            "Cabin          687\n",
            "Embarked         2\n",
            "dtype: int64\n"
          ]
        }
      ]
    },
    {
      "cell_type": "code",
      "source": [
        "# Select numerical columns\n",
        "numerical_cols = data.select_dtypes(include=['float64', 'int64'])"
      ],
      "metadata": {
        "id": "aieYnNkxw5rt"
      },
      "execution_count": 11,
      "outputs": []
    },
    {
      "cell_type": "code",
      "source": [
        "# Calculate statistics\n",
        "print(\"\\nStatistics:\")\n",
        "print(\"Mean:\")\n",
        "print(numerical_cols.mean())"
      ],
      "metadata": {
        "colab": {
          "base_uri": "https://localhost:8080/"
        },
        "id": "U0J1s37uw5jG",
        "outputId": "24b63e8e-a18d-42eb-9596-29f0351c69b6"
      },
      "execution_count": 12,
      "outputs": [
        {
          "output_type": "stream",
          "name": "stdout",
          "text": [
            "\n",
            "Statistics:\n",
            "Mean:\n",
            "PassengerId    446.000000\n",
            "Survived         0.383838\n",
            "Pclass           2.308642\n",
            "Age             29.699118\n",
            "SibSp            0.523008\n",
            "Parch            0.381594\n",
            "Fare            32.204208\n",
            "dtype: float64\n"
          ]
        }
      ]
    },
    {
      "cell_type": "code",
      "source": [
        "print(\"\\nMedian:\")\n",
        "print(numerical_cols.median())"
      ],
      "metadata": {
        "colab": {
          "base_uri": "https://localhost:8080/"
        },
        "id": "t_qBmlNAw5ad",
        "outputId": "5c95d074-3b0d-4940-da8b-1fb06c2ba569"
      },
      "execution_count": 13,
      "outputs": [
        {
          "output_type": "stream",
          "name": "stdout",
          "text": [
            "\n",
            "Median:\n",
            "PassengerId    446.0000\n",
            "Survived         0.0000\n",
            "Pclass           3.0000\n",
            "Age             28.0000\n",
            "SibSp            0.0000\n",
            "Parch            0.0000\n",
            "Fare            14.4542\n",
            "dtype: float64\n"
          ]
        }
      ]
    },
    {
      "cell_type": "code",
      "source": [
        "print(\"\\nMode:\")\n",
        "print(numerical_cols.mode().iloc[0])"
      ],
      "metadata": {
        "colab": {
          "base_uri": "https://localhost:8080/"
        },
        "id": "JHiEecaaw5Q-",
        "outputId": "16def6df-0bcf-4b92-9dcf-39e308350546"
      },
      "execution_count": 14,
      "outputs": [
        {
          "output_type": "stream",
          "name": "stdout",
          "text": [
            "\n",
            "Mode:\n",
            "PassengerId     1.00\n",
            "Survived        0.00\n",
            "Pclass          3.00\n",
            "Age            24.00\n",
            "SibSp           0.00\n",
            "Parch           0.00\n",
            "Fare            8.05\n",
            "Name: 0, dtype: float64\n"
          ]
        }
      ]
    },
    {
      "cell_type": "code",
      "source": [
        "# Normalize numerical columns (min-max normalization)\n",
        "normalized_data = (numerical_cols - numerical_cols.min()) / (numerical_cols.max() - numerical_cols.min())\n",
        "print(\"\\nNormalized Data (First 5 rows):\")\n",
        "print(normalized_data.head())"
      ],
      "metadata": {
        "colab": {
          "base_uri": "https://localhost:8080/"
        },
        "id": "zixzsDU0w5GO",
        "outputId": "a7332e8d-dd11-4264-f2da-a75630937c3a"
      },
      "execution_count": 15,
      "outputs": [
        {
          "output_type": "stream",
          "name": "stdout",
          "text": [
            "\n",
            "Normalized Data (First 5 rows):\n",
            "   PassengerId  Survived  Pclass       Age  SibSp  Parch      Fare\n",
            "0     0.000000       0.0     1.0  0.271174  0.125    0.0  0.014151\n",
            "1     0.001124       1.0     0.0  0.472229  0.125    0.0  0.139136\n",
            "2     0.002247       1.0     1.0  0.321438  0.000    0.0  0.015469\n",
            "3     0.003371       1.0     0.0  0.434531  0.125    0.0  0.103644\n",
            "4     0.004494       0.0     1.0  0.434531  0.000    0.0  0.015713\n"
          ]
        }
      ]
    }
  ]
}